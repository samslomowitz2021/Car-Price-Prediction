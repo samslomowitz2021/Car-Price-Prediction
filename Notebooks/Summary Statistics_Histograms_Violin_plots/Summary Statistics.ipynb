{
 "cells": [
  {
   "cell_type": "code",
   "execution_count": 33,
   "id": "446f174e",
   "metadata": {},
   "outputs": [
    {
     "data": {
      "text/html": [
       "<div>\n",
       "<style scoped>\n",
       "    .dataframe tbody tr th:only-of-type {\n",
       "        vertical-align: middle;\n",
       "    }\n",
       "\n",
       "    .dataframe tbody tr th {\n",
       "        vertical-align: top;\n",
       "    }\n",
       "\n",
       "    .dataframe thead th {\n",
       "        text-align: right;\n",
       "    }\n",
       "</style>\n",
       "<table border=\"1\" class=\"dataframe\">\n",
       "  <thead>\n",
       "    <tr style=\"text-align: right;\">\n",
       "      <th></th>\n",
       "      <th>model</th>\n",
       "      <th>year</th>\n",
       "      <th>price</th>\n",
       "      <th>transmission</th>\n",
       "      <th>mileage</th>\n",
       "      <th>fuelType</th>\n",
       "      <th>tax</th>\n",
       "      <th>mpg</th>\n",
       "      <th>engineSize</th>\n",
       "    </tr>\n",
       "  </thead>\n",
       "  <tbody>\n",
       "    <tr>\n",
       "      <th>0</th>\n",
       "      <td>Aygo</td>\n",
       "      <td>2017</td>\n",
       "      <td>9250</td>\n",
       "      <td>Manual</td>\n",
       "      <td>4414</td>\n",
       "      <td>Other</td>\n",
       "      <td>150</td>\n",
       "      <td>68.9</td>\n",
       "      <td>1.0</td>\n",
       "    </tr>\n",
       "    <tr>\n",
       "      <th>1</th>\n",
       "      <td>Aygo</td>\n",
       "      <td>2017</td>\n",
       "      <td>7100</td>\n",
       "      <td>Manual</td>\n",
       "      <td>32351</td>\n",
       "      <td>Petrol</td>\n",
       "      <td>0</td>\n",
       "      <td>68.9</td>\n",
       "      <td>1.0</td>\n",
       "    </tr>\n",
       "    <tr>\n",
       "      <th>2</th>\n",
       "      <td>Aygo</td>\n",
       "      <td>2016</td>\n",
       "      <td>6500</td>\n",
       "      <td>Manual</td>\n",
       "      <td>26193</td>\n",
       "      <td>Petrol</td>\n",
       "      <td>0</td>\n",
       "      <td>69.0</td>\n",
       "      <td>1.0</td>\n",
       "    </tr>\n",
       "    <tr>\n",
       "      <th>3</th>\n",
       "      <td>Aygo</td>\n",
       "      <td>2017</td>\n",
       "      <td>7650</td>\n",
       "      <td>Manual</td>\n",
       "      <td>12134</td>\n",
       "      <td>Petrol</td>\n",
       "      <td>0</td>\n",
       "      <td>68.9</td>\n",
       "      <td>1.0</td>\n",
       "    </tr>\n",
       "    <tr>\n",
       "      <th>4</th>\n",
       "      <td>Aygo</td>\n",
       "      <td>2016</td>\n",
       "      <td>6999</td>\n",
       "      <td>Manual</td>\n",
       "      <td>21123</td>\n",
       "      <td>Petrol</td>\n",
       "      <td>0</td>\n",
       "      <td>69.0</td>\n",
       "      <td>1.0</td>\n",
       "    </tr>\n",
       "  </tbody>\n",
       "</table>\n",
       "</div>"
      ],
      "text/plain": [
       "  model  year  price transmission  mileage fuelType  tax   mpg  engineSize\n",
       "0  Aygo  2017   9250       Manual     4414    Other  150  68.9         1.0\n",
       "1  Aygo  2017   7100       Manual    32351   Petrol    0  68.9         1.0\n",
       "2  Aygo  2016   6500       Manual    26193   Petrol    0  69.0         1.0\n",
       "3  Aygo  2017   7650       Manual    12134   Petrol    0  68.9         1.0\n",
       "4  Aygo  2016   6999       Manual    21123   Petrol    0  69.0         1.0"
      ]
     },
     "execution_count": 33,
     "metadata": {},
     "output_type": "execute_result"
    }
   ],
   "source": [
    "import pandas as pd\n",
    "import numpy as np\n",
    "from matplotlib import pyplot as plt\n",
    "from scipy.stats import linregress\n",
    "import seaborn as sns\n",
    "import dataframe_image as dfi\n",
    "\n",
    "df = pd.read_csv(\"..//..//Data//CleanData_mileage_price_enginesize.csv\")\n",
    "\n",
    "df.head()"
   ]
  },
  {
   "cell_type": "code",
   "execution_count": 9,
   "id": "bf55b76d",
   "metadata": {},
   "outputs": [],
   "source": [
    "df10 = df.loc[df[\"model\"]==\"Aygo\",:]"
   ]
  },
  {
   "cell_type": "code",
   "execution_count": 16,
   "id": "1931b3eb",
   "metadata": {},
   "outputs": [
    {
     "name": "stderr",
     "output_type": "stream",
     "text": [
      "C:\\Users\\samslomowitz\\anaconda3\\lib\\site-packages\\pandas\\util\\_decorators.py:311: SettingWithCopyWarning: \n",
      "A value is trying to be set on a copy of a slice from a DataFrame\n",
      "\n",
      "See the caveats in the documentation: https://pandas.pydata.org/pandas-docs/stable/user_guide/indexing.html#returning-a-view-versus-a-copy\n",
      "  return func(*args, **kwargs)\n"
     ]
    }
   ],
   "source": [
    "df10.sort_values(\"price\", axis = 0, ascending = False,\n",
    "                 inplace = True)"
   ]
  },
  {
   "cell_type": "code",
   "execution_count": 17,
   "id": "8890f7da",
   "metadata": {},
   "outputs": [],
   "source": [
    "df10.reset_index(drop=True, inplace=True)"
   ]
  },
  {
   "cell_type": "code",
   "execution_count": 35,
   "id": "63e955a0",
   "metadata": {},
   "outputs": [],
   "source": [
    "df10.head(2)\n",
    "dfi.export(df10.head(2),\"aygo.png\")"
   ]
  },
  {
   "cell_type": "code",
   "execution_count": 20,
   "id": "69f57aa0",
   "metadata": {},
   "outputs": [],
   "source": [
    "df11 = df.loc[df[\"model\"]==\"Yaris\",:]"
   ]
  },
  {
   "cell_type": "code",
   "execution_count": 21,
   "id": "c4a629db",
   "metadata": {},
   "outputs": [
    {
     "name": "stderr",
     "output_type": "stream",
     "text": [
      "C:\\Users\\samslomowitz\\anaconda3\\lib\\site-packages\\pandas\\util\\_decorators.py:311: SettingWithCopyWarning: \n",
      "A value is trying to be set on a copy of a slice from a DataFrame\n",
      "\n",
      "See the caveats in the documentation: https://pandas.pydata.org/pandas-docs/stable/user_guide/indexing.html#returning-a-view-versus-a-copy\n",
      "  return func(*args, **kwargs)\n"
     ]
    }
   ],
   "source": [
    "df11.sort_values(\"price\", axis = 0, ascending = False,\n",
    "                 inplace = True)"
   ]
  },
  {
   "cell_type": "code",
   "execution_count": 22,
   "id": "4e8d0904",
   "metadata": {},
   "outputs": [],
   "source": [
    "df11.reset_index(drop=True, inplace=True)"
   ]
  },
  {
   "cell_type": "code",
   "execution_count": 37,
   "id": "e8d17b7c",
   "metadata": {},
   "outputs": [],
   "source": [
    "df11.head(2)\n",
    "dfi.export(df11.head(2),\"yaris.png\")"
   ]
  },
  {
   "cell_type": "code",
   "execution_count": 38,
   "id": "f1a3163f",
   "metadata": {},
   "outputs": [],
   "source": [
    "df12 = df.loc[df[\"model\"]==\"Fiesta\",:]"
   ]
  },
  {
   "cell_type": "code",
   "execution_count": 39,
   "id": "457b94d2",
   "metadata": {},
   "outputs": [
    {
     "name": "stderr",
     "output_type": "stream",
     "text": [
      "C:\\Users\\samslomowitz\\anaconda3\\lib\\site-packages\\pandas\\util\\_decorators.py:311: SettingWithCopyWarning: \n",
      "A value is trying to be set on a copy of a slice from a DataFrame\n",
      "\n",
      "See the caveats in the documentation: https://pandas.pydata.org/pandas-docs/stable/user_guide/indexing.html#returning-a-view-versus-a-copy\n",
      "  return func(*args, **kwargs)\n"
     ]
    }
   ],
   "source": [
    "df12.sort_values(\"price\", axis = 0, ascending = False,\n",
    "                 inplace = True)"
   ]
  },
  {
   "cell_type": "code",
   "execution_count": 40,
   "id": "413ec7b5",
   "metadata": {},
   "outputs": [],
   "source": [
    "df12.reset_index(drop=True, inplace=True)"
   ]
  },
  {
   "cell_type": "code",
   "execution_count": 42,
   "id": "9e3d6453",
   "metadata": {},
   "outputs": [],
   "source": [
    "df12.head(2)\n",
    "dfi.export(df12.head(2),\"fiesta.png\")"
   ]
  },
  {
   "cell_type": "code",
   "execution_count": 29,
   "id": "6a100b82",
   "metadata": {},
   "outputs": [],
   "source": [
    "df13 = df.loc[df[\"model\"]==\"Focus\",:]"
   ]
  },
  {
   "cell_type": "code",
   "execution_count": 30,
   "id": "35c679f6",
   "metadata": {},
   "outputs": [
    {
     "name": "stderr",
     "output_type": "stream",
     "text": [
      "C:\\Users\\samslomowitz\\anaconda3\\lib\\site-packages\\pandas\\util\\_decorators.py:311: SettingWithCopyWarning: \n",
      "A value is trying to be set on a copy of a slice from a DataFrame\n",
      "\n",
      "See the caveats in the documentation: https://pandas.pydata.org/pandas-docs/stable/user_guide/indexing.html#returning-a-view-versus-a-copy\n",
      "  return func(*args, **kwargs)\n"
     ]
    }
   ],
   "source": [
    "df13.sort_values(\"price\", axis = 0, ascending = False,\n",
    "                 inplace = True)"
   ]
  },
  {
   "cell_type": "code",
   "execution_count": 31,
   "id": "52681ca8",
   "metadata": {},
   "outputs": [],
   "source": [
    "df13.reset_index(drop=True, inplace=True)"
   ]
  },
  {
   "cell_type": "code",
   "execution_count": 43,
   "id": "57dbecd7",
   "metadata": {},
   "outputs": [],
   "source": [
    "df13.head(2)\n",
    "dfi.export(df13.head(2),\"focus.png\")"
   ]
  },
  {
   "cell_type": "code",
   "execution_count": null,
   "id": "23296bc7",
   "metadata": {},
   "outputs": [],
   "source": []
  },
  {
   "cell_type": "code",
   "execution_count": null,
   "id": "2e560468",
   "metadata": {},
   "outputs": [],
   "source": []
  },
  {
   "cell_type": "code",
   "execution_count": null,
   "id": "00a93373",
   "metadata": {},
   "outputs": [],
   "source": []
  },
  {
   "cell_type": "code",
   "execution_count": 2,
   "id": "9725f487",
   "metadata": {},
   "outputs": [
    {
     "name": "stdout",
     "output_type": "stream",
     "text": [
      "<class 'pandas.core.frame.DataFrame'>\n",
      "RangeIndex: 14233 entries, 0 to 14232\n",
      "Data columns (total 9 columns):\n",
      " #   Column        Non-Null Count  Dtype  \n",
      "---  ------        --------------  -----  \n",
      " 0   model         14233 non-null  object \n",
      " 1   year          14233 non-null  int64  \n",
      " 2   price         14233 non-null  int64  \n",
      " 3   transmission  14233 non-null  object \n",
      " 4   mileage       14233 non-null  int64  \n",
      " 5   fuelType      14233 non-null  object \n",
      " 6   tax           14233 non-null  int64  \n",
      " 7   mpg           14233 non-null  float64\n",
      " 8   engineSize    14233 non-null  float64\n",
      "dtypes: float64(2), int64(4), object(3)\n",
      "memory usage: 1000.9+ KB\n"
     ]
    }
   ],
   "source": [
    "df.info()"
   ]
  },
  {
   "cell_type": "code",
   "execution_count": 3,
   "id": "5848366e",
   "metadata": {},
   "outputs": [
    {
     "data": {
      "text/html": [
       "<div>\n",
       "<style scoped>\n",
       "    .dataframe tbody tr th:only-of-type {\n",
       "        vertical-align: middle;\n",
       "    }\n",
       "\n",
       "    .dataframe tbody tr th {\n",
       "        vertical-align: top;\n",
       "    }\n",
       "\n",
       "    .dataframe thead th {\n",
       "        text-align: right;\n",
       "    }\n",
       "</style>\n",
       "<table border=\"1\" class=\"dataframe\">\n",
       "  <thead>\n",
       "    <tr style=\"text-align: right;\">\n",
       "      <th></th>\n",
       "      <th>year</th>\n",
       "      <th>price</th>\n",
       "      <th>mileage</th>\n",
       "      <th>tax</th>\n",
       "      <th>mpg</th>\n",
       "      <th>engineSize</th>\n",
       "    </tr>\n",
       "  </thead>\n",
       "  <tbody>\n",
       "    <tr>\n",
       "      <th>count</th>\n",
       "      <td>14233.000000</td>\n",
       "      <td>14233.000000</td>\n",
       "      <td>14233.000000</td>\n",
       "      <td>14233.000000</td>\n",
       "      <td>14233.000000</td>\n",
       "      <td>14233.000000</td>\n",
       "    </tr>\n",
       "    <tr>\n",
       "      <th>mean</th>\n",
       "      <td>2017.161877</td>\n",
       "      <td>11139.578304</td>\n",
       "      <td>18815.396684</td>\n",
       "      <td>102.344551</td>\n",
       "      <td>61.492391</td>\n",
       "      <td>1.199129</td>\n",
       "    </tr>\n",
       "    <tr>\n",
       "      <th>std</th>\n",
       "      <td>1.530949</td>\n",
       "      <td>3432.803084</td>\n",
       "      <td>12428.901613</td>\n",
       "      <td>64.191562</td>\n",
       "      <td>9.063270</td>\n",
       "      <td>0.286962</td>\n",
       "    </tr>\n",
       "    <tr>\n",
       "      <th>min</th>\n",
       "      <td>2013.000000</td>\n",
       "      <td>3891.000000</td>\n",
       "      <td>1.000000</td>\n",
       "      <td>0.000000</td>\n",
       "      <td>34.500000</td>\n",
       "      <td>1.000000</td>\n",
       "    </tr>\n",
       "    <tr>\n",
       "      <th>25%</th>\n",
       "      <td>2016.000000</td>\n",
       "      <td>8695.000000</td>\n",
       "      <td>9283.000000</td>\n",
       "      <td>20.000000</td>\n",
       "      <td>56.500000</td>\n",
       "      <td>1.000000</td>\n",
       "    </tr>\n",
       "    <tr>\n",
       "      <th>50%</th>\n",
       "      <td>2017.000000</td>\n",
       "      <td>10498.000000</td>\n",
       "      <td>16222.000000</td>\n",
       "      <td>145.000000</td>\n",
       "      <td>60.100000</td>\n",
       "      <td>1.000000</td>\n",
       "    </tr>\n",
       "    <tr>\n",
       "      <th>75%</th>\n",
       "      <td>2018.000000</td>\n",
       "      <td>12995.000000</td>\n",
       "      <td>26533.000000</td>\n",
       "      <td>145.000000</td>\n",
       "      <td>65.700000</td>\n",
       "      <td>1.500000</td>\n",
       "    </tr>\n",
       "    <tr>\n",
       "      <th>max</th>\n",
       "      <td>2020.000000</td>\n",
       "      <td>26995.000000</td>\n",
       "      <td>58500.000000</td>\n",
       "      <td>265.000000</td>\n",
       "      <td>88.300000</td>\n",
       "      <td>2.300000</td>\n",
       "    </tr>\n",
       "  </tbody>\n",
       "</table>\n",
       "</div>"
      ],
      "text/plain": [
       "               year         price       mileage           tax           mpg  \\\n",
       "count  14233.000000  14233.000000  14233.000000  14233.000000  14233.000000   \n",
       "mean    2017.161877  11139.578304  18815.396684    102.344551     61.492391   \n",
       "std        1.530949   3432.803084  12428.901613     64.191562      9.063270   \n",
       "min     2013.000000   3891.000000      1.000000      0.000000     34.500000   \n",
       "25%     2016.000000   8695.000000   9283.000000     20.000000     56.500000   \n",
       "50%     2017.000000  10498.000000  16222.000000    145.000000     60.100000   \n",
       "75%     2018.000000  12995.000000  26533.000000    145.000000     65.700000   \n",
       "max     2020.000000  26995.000000  58500.000000    265.000000     88.300000   \n",
       "\n",
       "         engineSize  \n",
       "count  14233.000000  \n",
       "mean       1.199129  \n",
       "std        0.286962  \n",
       "min        1.000000  \n",
       "25%        1.000000  \n",
       "50%        1.000000  \n",
       "75%        1.500000  \n",
       "max        2.300000  "
      ]
     },
     "execution_count": 3,
     "metadata": {},
     "output_type": "execute_result"
    }
   ],
   "source": [
    "df.describe()"
   ]
  },
  {
   "cell_type": "code",
   "execution_count": 4,
   "id": "2889a6d1",
   "metadata": {},
   "outputs": [
    {
     "data": {
      "text/plain": [
       "<AxesSubplot:xlabel='year', ylabel='Count'>"
      ]
     },
     "execution_count": 4,
     "metadata": {},
     "output_type": "execute_result"
    },
    {
     "data": {
      "image/png": "[encoded data removed]",
      "text/plain": [
       "<Figure size 432x288 with 1 Axes>"
      ]
     },
     "metadata": {
      "needs_background": "light"
     },
     "output_type": "display_data"
    }
   ],
   "source": [
    "sns.histplot(data=df, x=\"year\")"
   ]
  },
  {
   "cell_type": "code",
   "execution_count": 5,
   "id": "ee94cc38",
   "metadata": {},
   "outputs": [
    {
     "data": {
      "text/plain": [
       "<AxesSubplot:xlabel='price', ylabel='Count'>"
      ]
     },
     "execution_count": 5,
     "metadata": {},
     "output_type": "execute_result"
    },
    {
     "data": {
      "image/png": "[encoded data removed]",
      "text/plain": [
       "<Figure size 432x288 with 1 Axes>"
      ]
     },
     "metadata": {
      "needs_background": "light"
     },
     "output_type": "display_data"
    }
   ],
   "source": [
    "sns.histplot(data=df, x=\"price\")"
   ]
  },
  {
   "cell_type": "code",
   "execution_count": 6,
   "id": "c2d5dc95",
   "metadata": {},
   "outputs": [
    {
     "data": {
      "text/plain": [
       "<AxesSubplot:xlabel='mileage', ylabel='Count'>"
      ]
     },
     "execution_count": 6,
     "metadata": {},
     "output_type": "execute_result"
    },
    {
     "data": {
      "image/png": "[encoded data removed]",
      "text/plain": [
       "<Figure size 432x288 with 1 Axes>"
      ]
     },
     "metadata": {
      "needs_background": "light"
     },
     "output_type": "display_data"
    }
   ],
   "source": [
    "sns.histplot(data=df, x=\"mileage\")"
   ]
  },
  {
   "cell_type": "code",
   "execution_count": 7,
   "id": "e68adca6",
   "metadata": {},
   "outputs": [
    {
     "data": {
      "text/plain": [
       "<AxesSubplot:xlabel='engineSize', ylabel='Count'>"
      ]
     },
     "execution_count": 7,
     "metadata": {},
     "output_type": "execute_result"
    },
    {
     "data": {
      "image/png": "[encoded data removed]",
      "text/plain": [
       "<Figure size 432x288 with 1 Axes>"
      ]
     },
     "metadata": {
      "needs_background": "light"
     },
     "output_type": "display_data"
    }
   ],
   "source": [
    "sns.histplot(data=df, x=\"engineSize\")"
   ]
  },
  {
   "cell_type": "code",
   "execution_count": null,
   "id": "c2ef3ce2",
   "metadata": {},
   "outputs": [],
   "source": []
  }
 ],
 "metadata": {
  "kernelspec": {
   "display_name": "Python 3 (ipykernel)",
   "language": "python",
   "name": "python3"
  },
  "language_info": {
   "codemirror_mode": {
    "name": "ipython",
    "version": 3
   },
   "file_extension": ".py",
   "mimetype": "text/x-python",
   "name": "python",
   "nbconvert_exporter": "python",
   "pygments_lexer": "ipython3",
   "version": "3.9.7"
  }
 },
 "nbformat": 4,
 "nbformat_minor": 5
}
