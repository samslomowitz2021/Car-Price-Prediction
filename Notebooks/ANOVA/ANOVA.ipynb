{
 "cells": [
  {
   "cell_type": "code",
   "execution_count": 4,
   "id": "86ebb211",
   "metadata": {},
   "outputs": [],
   "source": [
    "from matplotlib import pyplot as plt\n",
    "from scipy.stats import linregress\n",
    "import numpy as np\n",
    "from sklearn import datasets\n",
    "import pandas as pd\n",
    "import seaborn as sns\n",
    "import matplotlib.pyplot as plt\n",
    "\n",
    "import warnings\n",
    "warnings.filterwarnings('ignore')\n",
    "\n",
    "import scipy.stats as stats\n",
    "\n",
    "import dataframe_image as dfi"
   ]
  },
  {
   "cell_type": "code",
   "execution_count": 5,
   "id": "77faf20a",
   "metadata": {},
   "outputs": [
    {
     "data": {
      "text/html": [
       "<div>\n",
       "<style scoped>\n",
       "    .dataframe tbody tr th:only-of-type {\n",
       "        vertical-align: middle;\n",
       "    }\n",
       "\n",
       "    .dataframe tbody tr th {\n",
       "        vertical-align: top;\n",
       "    }\n",
       "\n",
       "    .dataframe thead th {\n",
       "        text-align: right;\n",
       "    }\n",
       "</style>\n",
       "<table border=\"1\" class=\"dataframe\">\n",
       "  <thead>\n",
       "    <tr style=\"text-align: right;\">\n",
       "      <th></th>\n",
       "      <th>model</th>\n",
       "      <th>year</th>\n",
       "      <th>price</th>\n",
       "      <th>transmission</th>\n",
       "      <th>mileage</th>\n",
       "      <th>fuelType</th>\n",
       "      <th>tax</th>\n",
       "      <th>mpg</th>\n",
       "      <th>engineSize</th>\n",
       "    </tr>\n",
       "  </thead>\n",
       "  <tbody>\n",
       "    <tr>\n",
       "      <th>0</th>\n",
       "      <td>Aygo</td>\n",
       "      <td>2017</td>\n",
       "      <td>9250</td>\n",
       "      <td>Manual</td>\n",
       "      <td>4414</td>\n",
       "      <td>Other</td>\n",
       "      <td>150</td>\n",
       "      <td>68.9</td>\n",
       "      <td>1.0</td>\n",
       "    </tr>\n",
       "    <tr>\n",
       "      <th>1</th>\n",
       "      <td>Aygo</td>\n",
       "      <td>2017</td>\n",
       "      <td>7100</td>\n",
       "      <td>Manual</td>\n",
       "      <td>32351</td>\n",
       "      <td>Petrol</td>\n",
       "      <td>0</td>\n",
       "      <td>68.9</td>\n",
       "      <td>1.0</td>\n",
       "    </tr>\n",
       "    <tr>\n",
       "      <th>2</th>\n",
       "      <td>Aygo</td>\n",
       "      <td>2016</td>\n",
       "      <td>6500</td>\n",
       "      <td>Manual</td>\n",
       "      <td>26193</td>\n",
       "      <td>Petrol</td>\n",
       "      <td>0</td>\n",
       "      <td>69.0</td>\n",
       "      <td>1.0</td>\n",
       "    </tr>\n",
       "    <tr>\n",
       "      <th>3</th>\n",
       "      <td>Aygo</td>\n",
       "      <td>2017</td>\n",
       "      <td>7650</td>\n",
       "      <td>Manual</td>\n",
       "      <td>12134</td>\n",
       "      <td>Petrol</td>\n",
       "      <td>0</td>\n",
       "      <td>68.9</td>\n",
       "      <td>1.0</td>\n",
       "    </tr>\n",
       "    <tr>\n",
       "      <th>4</th>\n",
       "      <td>Aygo</td>\n",
       "      <td>2016</td>\n",
       "      <td>6999</td>\n",
       "      <td>Manual</td>\n",
       "      <td>21123</td>\n",
       "      <td>Petrol</td>\n",
       "      <td>0</td>\n",
       "      <td>69.0</td>\n",
       "      <td>1.0</td>\n",
       "    </tr>\n",
       "  </tbody>\n",
       "</table>\n",
       "</div>"
      ],
      "text/plain": [
       "  model  year  price transmission  mileage fuelType  tax   mpg  engineSize\n",
       "0  Aygo  2017   9250       Manual     4414    Other  150  68.9         1.0\n",
       "1  Aygo  2017   7100       Manual    32351   Petrol    0  68.9         1.0\n",
       "2  Aygo  2016   6500       Manual    26193   Petrol    0  69.0         1.0\n",
       "3  Aygo  2017   7650       Manual    12134   Petrol    0  68.9         1.0\n",
       "4  Aygo  2016   6999       Manual    21123   Petrol    0  69.0         1.0"
      ]
     },
     "execution_count": 5,
     "metadata": {},
     "output_type": "execute_result"
    }
   ],
   "source": [
    "df = pd.read_csv(\"../../Data/CleanData_mileage_price_enginesize.csv\")\n",
    "\n",
    "df.head()\n",
    "\n"
   ]
  },
  {
   "cell_type": "code",
   "execution_count": 3,
   "id": "5625df0c",
   "metadata": {},
   "outputs": [],
   "source": [
    "dfi.export(df.head(),\"..\\\\..\\\\clean_data.png\")\n"
   ]
  },
  {
   "cell_type": "markdown",
   "id": "0c01b5c3",
   "metadata": {},
   "source": [
    "# Is there more price variation within a brand of car or between brands?"
   ]
  },
  {
   "cell_type": "markdown",
   "id": "3d48f1c7",
   "metadata": {},
   "source": [
    "## Normality Assumption Check"
   ]
  },
  {
   "cell_type": "code",
   "execution_count": 6,
   "id": "c525c5ba",
   "metadata": {},
   "outputs": [
    {
     "data": {
      "image/png": "[encoded data removed]",
      "text/plain": [
       "<Figure size 432x288 with 1 Axes>"
      ]
     },
     "metadata": {
      "needs_background": "light"
     },
     "output_type": "display_data"
    },
    {
     "data": {
      "image/png": "[encoded data removed]",
      "text/plain": [
       "<Figure size 432x288 with 1 Axes>"
      ]
     },
     "metadata": {
      "needs_background": "light"
     },
     "output_type": "display_data"
    },
    {
     "data": {
      "image/png": "[encoded data removed]",
      "text/plain": [
       "<Figure size 432x288 with 1 Axes>"
      ]
     },
     "metadata": {
      "needs_background": "light"
     },
     "output_type": "display_data"
    },
    {
     "data": {
      "image/png": "[encoded data removed]",
      "text/plain": [
       "<Figure size 432x288 with 1 Axes>"
      ]
     },
     "metadata": {
      "needs_background": "light"
     },
     "output_type": "display_data"
    }
   ],
   "source": [
    "#https://towardsdatascience.com/anova-test-with-python-cfbf4013328b\n",
    "\n",
    "models = df['model'].unique()\n",
    "for model in models:\n",
    "    stats.probplot(df[df['model'] == model]['price'], dist=\"norm\", plot=plt)\n",
    "    plt.title(\"Probability Plot - \" +  model)\n",
    "    plt.show()"
   ]
  },
  {
   "cell_type": "markdown",
   "id": "70b72df1",
   "metadata": {},
   "source": [
    "## Homogeneity of variance Assumption Check"
   ]
  },
  {
   "cell_type": "code",
   "execution_count": 7,
   "id": "c618aae7",
   "metadata": {},
   "outputs": [
    {
     "data": {
      "text/plain": [
       "year          1.120895\n",
       "price         2.505957\n",
       "mileage       1.196465\n",
       "tax           1.160395\n",
       "mpg           2.240336\n",
       "engineSize         inf\n",
       "dtype: float64"
      ]
     },
     "execution_count": 7,
     "metadata": {},
     "output_type": "execute_result"
    }
   ],
   "source": [
    "ratio = df.groupby('model').std().max() / df.groupby('model').std().min()\n",
    "ratio"
   ]
  },
  {
   "cell_type": "markdown",
   "id": "9498cf8e",
   "metadata": {},
   "source": [
    "## Borderline in terms of meeting the homogeneity of varianace assumption"
   ]
  },
  {
   "cell_type": "markdown",
   "id": "7d19ea31",
   "metadata": {},
   "source": [
    "## Hypothesis Testing"
   ]
  },
  {
   "cell_type": "code",
   "execution_count": 8,
   "id": "28119dbb",
   "metadata": {},
   "outputs": [
    {
     "data": {
      "text/html": [
       "<div>\n",
       "<style scoped>\n",
       "    .dataframe tbody tr th:only-of-type {\n",
       "        vertical-align: middle;\n",
       "    }\n",
       "\n",
       "    .dataframe tbody tr th {\n",
       "        vertical-align: top;\n",
       "    }\n",
       "\n",
       "    .dataframe thead th {\n",
       "        text-align: right;\n",
       "    }\n",
       "</style>\n",
       "<table border=\"1\" class=\"dataframe\">\n",
       "  <thead>\n",
       "    <tr style=\"text-align: right;\">\n",
       "      <th></th>\n",
       "      <th>SS</th>\n",
       "      <th>df</th>\n",
       "      <th>MS</th>\n",
       "      <th>F</th>\n",
       "      <th>P-value</th>\n",
       "      <th>F crit</th>\n",
       "    </tr>\n",
       "    <tr>\n",
       "      <th>Source of Variation</th>\n",
       "      <th></th>\n",
       "      <th></th>\n",
       "      <th></th>\n",
       "      <th></th>\n",
       "      <th></th>\n",
       "      <th></th>\n",
       "    </tr>\n",
       "  </thead>\n",
       "  <tbody>\n",
       "    <tr>\n",
       "      <th>Between Groups</th>\n",
       "      <td>49186796415.574593</td>\n",
       "      <td>3</td>\n",
       "      <td>16395598805.19153</td>\n",
       "      <td>1968.301148</td>\n",
       "      <td>0.0</td>\n",
       "      <td>3.117049</td>\n",
       "    </tr>\n",
       "    <tr>\n",
       "      <th>Within Groups</th>\n",
       "      <td>118525041551.405396</td>\n",
       "      <td>14229</td>\n",
       "      <td>8329822.303142</td>\n",
       "      <td></td>\n",
       "      <td></td>\n",
       "      <td></td>\n",
       "    </tr>\n",
       "    <tr>\n",
       "      <th>Total</th>\n",
       "      <td>167711837966.97998</td>\n",
       "      <td>14232</td>\n",
       "      <td>11784137.012857</td>\n",
       "      <td></td>\n",
       "      <td></td>\n",
       "      <td></td>\n",
       "    </tr>\n",
       "  </tbody>\n",
       "</table>\n",
       "</div>"
      ],
      "text/plain": [
       "                                      SS     df                 MS  \\\n",
       "Source of Variation                                                  \n",
       "Between Groups        49186796415.574593      3  16395598805.19153   \n",
       "Within Groups        118525041551.405396  14229     8329822.303142   \n",
       "Total                 167711837966.97998  14232    11784137.012857   \n",
       "\n",
       "                               F P-value    F crit  \n",
       "Source of Variation                                 \n",
       "Between Groups       1968.301148     0.0  3.117049  \n",
       "Within Groups                                       \n",
       "Total                                               "
      ]
     },
     "execution_count": 8,
     "metadata": {},
     "output_type": "execute_result"
    }
   ],
   "source": [
    "# Create ANOVA backbone table\n",
    "data = [['Between Groups', '', '', '', '', '', ''], ['Within Groups', '', '', '', '', '', ''], ['Total', '', '', '', '', '', '']] \n",
    "anova_table = pd.DataFrame(data, columns = ['Source of Variation', 'SS', 'df', 'MS', 'F', 'P-value', 'F crit']) \n",
    "anova_table.set_index('Source of Variation', inplace = True)\n",
    "\n",
    "# calculate SSTR and update anova table\n",
    "x_bar = df['price'].mean()\n",
    "SSTR = df.groupby('model').count() * (df.groupby('model').mean() - x_bar)**2\n",
    "anova_table['SS']['Between Groups'] = SSTR['price'].sum()\n",
    "\n",
    "# calculate SSE and update anova table\n",
    "SSE = (df.groupby('model').count() - 1) * df.groupby('model').std()**2\n",
    "anova_table['SS']['Within Groups'] = SSE['price'].sum()\n",
    "\n",
    "# calculate SSTR and update anova table\n",
    "SSTR = SSTR['price'].sum() + SSE['price'].sum()\n",
    "anova_table['SS']['Total'] = SSTR\n",
    "\n",
    "# update degree of freedom\n",
    "anova_table['df']['Between Groups'] = df['model'].nunique() - 1\n",
    "anova_table['df']['Within Groups'] = df.shape[0] - df['model'].nunique()\n",
    "anova_table['df']['Total'] =df.shape[0] - 1\n",
    "\n",
    "# calculate MS\n",
    "anova_table['MS'] = anova_table['SS'] / anova_table['df']\n",
    "\n",
    "# calculate F \n",
    "F = anova_table['MS']['Between Groups'] / anova_table['MS']['Within Groups']\n",
    "anova_table['F']['Between Groups'] = F\n",
    "\n",
    "# p-value\n",
    "anova_table['P-value']['Between Groups'] = 1 - stats.f.cdf(F, anova_table['df']['Between Groups'], anova_table['df']['Within Groups'])\n",
    "\n",
    "# F critical \n",
    "alpha = 0.05\n",
    "# possible types \"right-tailed, left-tailed, two-tailed\"\n",
    "tail_hypothesis_type = \"two-tailed\"\n",
    "if tail_hypothesis_type == \"two-tailed\":\n",
    "    alpha /= 2\n",
    "anova_table['F crit']['Between Groups'] = stats.f.ppf(1-alpha, anova_table['df']['Between Groups'], anova_table['df']['Within Groups'])\n",
    "\n",
    "# Final ANOVA Table\n",
    "anova_table"
   ]
  },
  {
   "cell_type": "code",
   "execution_count": 9,
   "id": "bbecabbf",
   "metadata": {},
   "outputs": [],
   "source": [
    "dfi.export(anova_table,\"..\\\\..\\\\anova_table.png\")"
   ]
  },
  {
   "cell_type": "code",
   "execution_count": 17,
   "id": "c7707c8e",
   "metadata": {},
   "outputs": [
    {
     "name": "stdout",
     "output_type": "stream",
     "text": [
      "Approach 1: The p-value approach to hypothesis testing in the decision rule\n",
      "F-score is: 1968.3011483939365  and p value is: 1.1102230246251565e-16\n",
      "Null Hypothesis is rejected.\n"
     ]
    }
   ],
   "source": [
    "# The p-value approach\n",
    "print(\"Approach 1: The p-value approach to hypothesis testing in the decision rule\")\n",
    "conclusion = \"Failed to reject the null hypothesis.\"\n",
    "if anova_table['P-value']['Between Groups'] <= alpha:\n",
    "    conclusion = \"Null Hypothesis is rejected.\"\n",
    "print(\"F-score is:\", anova_table['F']['Between Groups'], \" and p value is:\", anova_table['P-value']['Between Groups'])    \n",
    "print(conclusion)"
   ]
  },
  {
   "cell_type": "code",
   "execution_count": 12,
   "id": "cf8226a8",
   "metadata": {},
   "outputs": [],
   "source": [
    "df2 = df.groupby(\"model\").agg({\"price\": [\"mean\", \"std\", \"var\", \"count\"]}, axis=1)"
   ]
  },
  {
   "cell_type": "code",
   "execution_count": 13,
   "id": "79a0974e",
   "metadata": {},
   "outputs": [],
   "source": [
    "dfi.export(df2,\"..\\\\..\\\\model_price.png\")"
   ]
  },
  {
   "cell_type": "code",
   "execution_count": 20,
   "id": "b8210fd8",
   "metadata": {},
   "outputs": [],
   "source": [
    "group1 = df[df[\"model\"] == \"Aygo\"][\"price\"]\n",
    "group2 = df[df[\"model\"] == \"Fiesta\"][\"price\"]\n",
    "group3 = df[df[\"model\"] == \"Focus\"][\"price\"]\n",
    "group4 = df[df[\"model\"] == \"Yaris\"][\"price\"]"
   ]
  },
  {
   "cell_type": "code",
   "execution_count": 21,
   "id": "a1f00e57",
   "metadata": {},
   "outputs": [
    {
     "data": {
      "text/plain": [
       "F_onewayResult(statistic=1968.3011483939333, pvalue=0.0)"
      ]
     },
     "execution_count": 21,
     "metadata": {},
     "output_type": "execute_result"
    }
   ],
   "source": [
    "stats.f_oneway(group1, group2, group3, group4)"
   ]
  },
  {
   "cell_type": "code",
   "execution_count": 22,
   "id": "d83ebe3c",
   "metadata": {},
   "outputs": [
    {
     "name": "stdout",
     "output_type": "stream",
     "text": [
      "Ttest_indResult(statistic=-49.395735208981066, pvalue=0.0)\n",
      "Ttest_indResult(statistic=-61.964700033848835, pvalue=0.0)\n",
      "Ttest_indResult(statistic=-45.988905425489676, pvalue=0.0)\n",
      "Ttest_indResult(statistic=-48.08611636716135, pvalue=0.0)\n",
      "Ttest_indResult(statistic=-6.048692808286863, pvalue=1.5244509953093368e-09)\n",
      "Ttest_indResult(statistic=37.32761108786972, pvalue=2.2538578977462175e-274)\n"
     ]
    }
   ],
   "source": [
    "print(stats.ttest_ind(group1, group2, equal_var=False))\n",
    "print(stats.ttest_ind(group1, group3, equal_var=True))\n",
    "print(stats.ttest_ind(group1, group4, equal_var=False))\n",
    "\n",
    "print(stats.ttest_ind(group2, group3, equal_var=False))\n",
    "print(stats.ttest_ind(group2, group4, equal_var=True))\n",
    "\n",
    "print(stats.ttest_ind(group3, group4, equal_var=False))"
   ]
  },
  {
   "cell_type": "markdown",
   "id": "09e97375",
   "metadata": {},
   "source": [
    "## The groups are statistical different in price based on an ANOVA test and statistically different from each other based on the t-tests performed"
   ]
  },
  {
   "cell_type": "code",
   "execution_count": null,
   "id": "b409904c",
   "metadata": {},
   "outputs": [],
   "source": []
  }
 ],
 "metadata": {
  "kernelspec": {
   "display_name": "Python 3 (ipykernel)",
   "language": "python",
   "name": "python3"
  },
  "language_info": {
   "codemirror_mode": {
    "name": "ipython",
    "version": 3
   },
   "file_extension": ".py",
   "mimetype": "text/x-python",
   "name": "python",
   "nbconvert_exporter": "python",
   "pygments_lexer": "ipython3",
   "version": "3.9.7"
  }
 },
 "nbformat": 4,
 "nbformat_minor": 5
}
